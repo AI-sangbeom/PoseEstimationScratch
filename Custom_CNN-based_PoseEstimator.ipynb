{
 "cells": [
  {
   "cell_type": "markdown",
   "id": "ba3e9846",
   "metadata": {},
   "source": [
    "# Pose Destimator Scratch"
   ]
  },
  {
   "cell_type": "code",
   "execution_count": null,
   "id": "e4691473",
   "metadata": {},
   "outputs": [],
   "source": [
    "import torch\n",
    "from torch.utils.data import Dataset, DataLoader\n",
    "import cv2\n",
    "import os\n",
    "\n",
    "class YoloPoseDataset(Dataset):\n",
    "    def __init__(self, images_dir, labels_dir, img_size=(224,224)):\n",
    "        self.images_dir = images_dir\n",
    "        self.labels_dir = labels_dir\n",
    "        self.img_size = img_size\n",
    "        self.img_files = sorted(os.listdir(images_dir))\n",
    "\n",
    "    def __len__(self):\n",
    "        return len(self.img_files)\n",
    "\n",
    "    def __getitem__(self, idx):\n",
    "        img_file = self.img_files[idx]\n",
    "        label_file = img_file.replace('.jpg', '.txt')\n",
    "\n",
    "        # 이미지 로드\n",
    "        img_path = os.path.join(self.images_dir, img_file)\n",
    "        img = cv2.imread(img_path)\n",
    "        img = cv2.resize(img, self.img_size)\n",
    "        img = cv2.cvtColor(img, cv2.COLOR_BGR2RGB)\n",
    "        img = torch.tensor(img, dtype=torch.float32).permute(2,0,1) / 255.0\n",
    "\n",
    "        # 레이블 로드\n",
    "        label_path = os.path.join(self.labels_dir, label_file)\n",
    "        with open(label_path, 'r') as f:\n",
    "            line = f.readline().strip().split()\n",
    "            keypoints = [float(x) for x in line]  \n",
    "\n",
    "        keypoints = torch.tensor(keypoints, dtype=torch.float32)\n",
    "\n",
    "        return img, keypoints\n",
    "\n",
    "base = '/home/otter/dataset/pallet/dataset/train'\n",
    "dataset = YoloPoseDataset(images_dir=os.path.join(base, 'images'), labels_dir=os.path.join(base, 'labels'))"
   ]
  },
  {
   "cell_type": "code",
   "execution_count": 42,
   "id": "da1c23c0",
   "metadata": {},
   "outputs": [],
   "source": [
    "base = '/home/otter/dataset/pallet/dataset/train'\n",
    "dataset = YoloPoseDataset(images_dir=os.path.join(base, 'images'), labels_dir=os.path.join(base, 'labels'))"
   ]
  },
  {
   "cell_type": "code",
   "execution_count": 2,
   "id": "88b3785f",
   "metadata": {},
   "outputs": [],
   "source": [
    "import torch.nn as nn\n",
    "\n",
    "class SimplePoseEstimator(nn.Module):\n",
    "    def __init__(self, num_keypoints):\n",
    "        super(SimplePoseEstimator, self).__init__()\n",
    "\n",
    "        self.features = nn.Sequential(\n",
    "            nn.Conv2d(3, 16, kernel_size=3, padding=1),\n",
    "            nn.ReLU(),\n",
    "            nn.MaxPool2d(2),\n",
    "\n",
    "            nn.Conv2d(16, 32, kernel_size=3, padding=1),\n",
    "            nn.ReLU(),\n",
    "            nn.MaxPool2d(2),\n",
    "\n",
    "            nn.Conv2d(32, 64, kernel_size=3, padding=1),\n",
    "            nn.ReLU(),\n",
    "            nn.MaxPool2d(2),\n",
    "\n",
    "            nn.Conv2d(64, 128, kernel_size=3, padding=1),\n",
    "            nn.ReLU(),\n",
    "            nn.AdaptiveAvgPool2d(1),\n",
    "        )\n",
    "\n",
    "        self.fc = nn.Linear(128, num_keypoints * 2)\n",
    "\n",
    "    def forward(self, x):\n",
    "        x = self.features(x)\n",
    "        x = x.view(x.size(0), -1)\n",
    "        x = self.fc(x)\n",
    "        return x\n"
   ]
  },
  {
   "cell_type": "code",
   "execution_count": null,
   "id": "5effb045",
   "metadata": {},
   "outputs": [
    {
     "name": "stderr",
     "output_type": "stream",
     "text": [
      "100%|██████████| 340/340 [00:29<00:00, 11.56it/s]\n"
     ]
    },
    {
     "name": "stdout",
     "output_type": "stream",
     "text": [
      "Epoch [1/10] - Avg Loss: 0.0265\n"
     ]
    },
    {
     "name": "stderr",
     "output_type": "stream",
     "text": [
      "100%|██████████| 340/340 [00:29<00:00, 11.64it/s]\n"
     ]
    },
    {
     "name": "stdout",
     "output_type": "stream",
     "text": [
      "Epoch [2/10] - Avg Loss: 0.0210\n"
     ]
    },
    {
     "name": "stderr",
     "output_type": "stream",
     "text": [
      "100%|██████████| 340/340 [00:29<00:00, 11.64it/s]\n"
     ]
    },
    {
     "name": "stdout",
     "output_type": "stream",
     "text": [
      "Epoch [3/10] - Avg Loss: 0.0166\n"
     ]
    },
    {
     "name": "stderr",
     "output_type": "stream",
     "text": [
      "100%|██████████| 340/340 [00:29<00:00, 11.51it/s]\n"
     ]
    },
    {
     "name": "stdout",
     "output_type": "stream",
     "text": [
      "Epoch [4/10] - Avg Loss: 0.0153\n"
     ]
    },
    {
     "name": "stderr",
     "output_type": "stream",
     "text": [
      "100%|██████████| 340/340 [00:29<00:00, 11.54it/s]\n"
     ]
    },
    {
     "name": "stdout",
     "output_type": "stream",
     "text": [
      "Epoch [5/10] - Avg Loss: 0.0143\n"
     ]
    },
    {
     "name": "stderr",
     "output_type": "stream",
     "text": [
      "100%|██████████| 340/340 [00:29<00:00, 11.48it/s]\n"
     ]
    },
    {
     "name": "stdout",
     "output_type": "stream",
     "text": [
      "Epoch [6/10] - Avg Loss: 0.0138\n"
     ]
    },
    {
     "name": "stderr",
     "output_type": "stream",
     "text": [
      "100%|██████████| 340/340 [00:29<00:00, 11.53it/s]\n"
     ]
    },
    {
     "name": "stdout",
     "output_type": "stream",
     "text": [
      "Epoch [7/10] - Avg Loss: 0.0128\n"
     ]
    },
    {
     "name": "stderr",
     "output_type": "stream",
     "text": [
      "100%|██████████| 340/340 [00:29<00:00, 11.41it/s]\n"
     ]
    },
    {
     "name": "stdout",
     "output_type": "stream",
     "text": [
      "Epoch [8/10] - Avg Loss: 0.0121\n"
     ]
    },
    {
     "name": "stderr",
     "output_type": "stream",
     "text": [
      "100%|██████████| 340/340 [00:29<00:00, 11.34it/s]\n"
     ]
    },
    {
     "name": "stdout",
     "output_type": "stream",
     "text": [
      "Epoch [9/10] - Avg Loss: 0.0110\n"
     ]
    },
    {
     "name": "stderr",
     "output_type": "stream",
     "text": [
      "100%|██████████| 340/340 [00:29<00:00, 11.46it/s]"
     ]
    },
    {
     "name": "stdout",
     "output_type": "stream",
     "text": [
      "Epoch [10/10] - Avg Loss: 0.0094\n",
      "학습 완료!\n"
     ]
    },
    {
     "name": "stderr",
     "output_type": "stream",
     "text": [
      "\n"
     ]
    }
   ],
   "source": [
    "from tqdm import tqdm \n",
    "import torch.optim as optim\n",
    "\n",
    "\n",
    "\n",
    "# DataLoader 사용 예시\n",
    "base = '/home/otter/dataset/pallet/dataset/train'\n",
    "dataset = YoloPoseDataset(images_dir=os.path.join(base, 'images'), labels_dir=os.path.join(base, 'labels'))\n",
    "dataloader = DataLoader(dataset, batch_size=8, shuffle=True)\n",
    "\n",
    "\n",
    "# 모델 생성 및 설정\n",
    "num_keypoints = 6 # 실제 사용하는 keypoint 개수로 설정\n",
    "model = SimplePoseEstimator(num_keypoints).to('cuda')\n",
    "criterion = nn.MSELoss()\n",
    "optimizer = optim.Adam(model.parameters(), lr=1e-3)\n",
    "\n",
    "# 학습 루프\n",
    "epochs = 10\n",
    "for epoch in range(epochs):\n",
    "    model.train()\n",
    "    total_loss = 0.0\n",
    "\n",
    "    for images, keypoints_gt in tqdm(dataloader):\n",
    "        images, keypoints_gt = images.to('cuda'), keypoints_gt.to('cuda')\n",
    "        optimizer.zero_grad()\n",
    "        outputs = model(images)\n",
    "        loss = criterion(outputs, keypoints_gt)\n",
    "        loss.backward()\n",
    "        optimizer.step()\n",
    "        total_loss += loss.item()\n",
    "\n",
    "    avg_loss = total_loss / len(dataloader)\n",
    "    print(f\"Epoch [{epoch+1}/{epochs}] - Avg Loss: {avg_loss:.4f}\")\n",
    "\n",
    "print(\"학습 완료!\")\n",
    "\n",
    "torch.save(model, 'checkpoints/pe.pt')"
   ]
  },
  {
   "cell_type": "code",
   "execution_count": null,
   "id": "ef6fee4f",
   "metadata": {},
   "outputs": [
    {
     "name": "stderr",
     "output_type": "stream",
     "text": [
      "/tmp/ipykernel_3747076/803139982.py:2: FutureWarning: You are using `torch.load` with `weights_only=False` (the current default value), which uses the default pickle module implicitly. It is possible to construct malicious pickle data which will execute arbitrary code during unpickling (See https://github.com/pytorch/pytorch/blob/main/SECURITY.md#untrusted-models for more details). In a future release, the default value for `weights_only` will be flipped to `True`. This limits the functions that could be executed during unpickling. Arbitrary objects will no longer be allowed to be loaded via this mode unless they are explicitly allowlisted by the user via `torch.serialization.add_safe_globals`. We recommend you start setting `weights_only=True` for any use case where you don't have full control of the loaded file. Please open an issue on GitHub for any issues related to this experimental feature.\n",
      "  model = torch.load('pe.pt').cuda()\n"
     ]
    }
   ],
   "source": [
    "from torchvision import transforms\n",
    "model = torch.load('checkpoints/pe.pt').cuda()\n",
    "transform = transforms.Compose([\n",
    "    transforms.ToTensor(),\n",
    "    transforms.Resize((224, 224)),\n",
    "    transforms.Normalize(mean=[0.485, 0.456, 0.406], std=[0.229, 0.224, 0.225])\n",
    "])\n",
    "\n",
    "# 모델 사용 예시\n",
    "file_base = '/home/otter/workspace/Pallet/train_video'\n",
    "files_list = os.listdir(file_base)\n",
    "files = [os.path.join(file_base, file) for file in files_list if file.endswith('.mp4')]\n",
    "for file in files:\n",
    "    key = None\n",
    "    cap = cv2.VideoCapture(file)\n",
    "    while cap.isOpened():\n",
    "        ret, color_frame = cap.read()\n",
    "        if ret: \n",
    "            input_frame = transform(color_frame).to('cuda').unsqueeze(0)\n",
    "            outputs = model(input_frame)\n",
    "            xs = outputs[:, 0::2][0][2:] * 1920 / 224\n",
    "            ys = outputs[:, 1::2][0][2:] * 1080 / 224\n",
    "            x = xs.type(torch.int32).detach().cpu().numpy()\n",
    "            y = ys.type(torch.int32).detach().cpu().numpy()\n",
    "            for i in range(len(x)):\n",
    "                cv2.circle(color_frame, (x[i], y[i]), 5, (0, 0, 255), -1)\n",
    "            cv2.imshow('frame', color_frame)    \n",
    "            key = cv2.waitKey(1) & 0xFF\n",
    "            if key == ord('q') or key == ord('p'): break\n",
    "        else:\n",
    "            break \n",
    "    if key == ord('q'):\n",
    "        break\n",
    "\n",
    "    cap.release()\n",
    "cv2.destroyAllWindows()"
   ]
  },
  {
   "cell_type": "code",
   "execution_count": null,
   "id": "a1251405",
   "metadata": {},
   "outputs": [],
   "source": []
  },
  {
   "cell_type": "code",
   "execution_count": 3,
   "id": "787d820d",
   "metadata": {},
   "outputs": [
    {
     "name": "stdout",
     "output_type": "stream",
     "text": [
      "torch.Size([8, 7, 7, 5])\n"
     ]
    },
    {
     "ename": "RuntimeError",
     "evalue": "view size is not compatible with input tensor's size and stride (at least one dimension spans across two contiguous subspaces). Use .reshape(...) instead.",
     "output_type": "error",
     "traceback": [
      "\u001b[0;31m---------------------------------------------------------------------------\u001b[0m",
      "\u001b[0;31mRuntimeError\u001b[0m                              Traceback (most recent call last)",
      "Cell \u001b[0;32mIn[3], line 86\u001b[0m\n\u001b[1;32m     84\u001b[0m det_preds \u001b[38;5;241m=\u001b[39m model\u001b[38;5;241m.\u001b[39mdetector(imgs)\u001b[38;5;241m.\u001b[39mpermute(\u001b[38;5;241m0\u001b[39m,\u001b[38;5;241m2\u001b[39m,\u001b[38;5;241m3\u001b[39m,\u001b[38;5;241m1\u001b[39m)\n\u001b[1;32m     85\u001b[0m \u001b[38;5;28mprint\u001b[39m(det_preds\u001b[38;5;241m.\u001b[39mshape)\n\u001b[0;32m---> 86\u001b[0m det_preds \u001b[38;5;241m=\u001b[39m \u001b[43mdet_preds\u001b[49m\u001b[38;5;241;43m.\u001b[39;49m\u001b[43mview\u001b[49m\u001b[43m(\u001b[49m\u001b[38;5;241;43m-\u001b[39;49m\u001b[38;5;241;43m1\u001b[39;49m\u001b[43m,\u001b[49m\u001b[43m \u001b[49m\u001b[38;5;241;43m4\u001b[39;49m\u001b[43m)\u001b[49m\n\u001b[1;32m     87\u001b[0m det_loss \u001b[38;5;241m=\u001b[39m det_loss_fn(det_preds, det_labels)\n\u001b[1;32m     89\u001b[0m \u001b[38;5;66;03m# Pose Estimator 학습\u001b[39;00m\n",
      "\u001b[0;31mRuntimeError\u001b[0m: view size is not compatible with input tensor's size and stride (at least one dimension spans across two contiguous subspaces). Use .reshape(...) instead."
     ]
    }
   ],
   "source": []
  },
  {
   "cell_type": "code",
   "execution_count": null,
   "id": "5d51aaab",
   "metadata": {},
   "outputs": [],
   "source": []
  }
 ],
 "metadata": {
  "kernelspec": {
   "display_name": "pose",
   "language": "python",
   "name": "python3"
  },
  "language_info": {
   "codemirror_mode": {
    "name": "ipython",
    "version": 3
   },
   "file_extension": ".py",
   "mimetype": "text/x-python",
   "name": "python",
   "nbconvert_exporter": "python",
   "pygments_lexer": "ipython3",
   "version": "3.9.0"
  }
 },
 "nbformat": 4,
 "nbformat_minor": 5
}
